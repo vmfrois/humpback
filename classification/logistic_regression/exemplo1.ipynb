{
 "cells": [
  {
   "cell_type": "markdown",
   "metadata": {},
   "source": [
    "# Regressão Logística\n",
    "\n",
    "Neste notebook, vamos aplicar uma regressão logística e construir uma curva ROC sobre o modelo resultante. Vamos usar um dataset presente no módulo `datasets` do sklearn, representando um problema de classificação binário."
   ]
  },
  {
   "cell_type": "code",
   "execution_count": null,
   "metadata": {},
   "outputs": [],
   "source": [
    "#imports\n",
    "from sklearn.datasets import load_breast_cancer\n",
    "from sklearn.model_selection import train_test_split\n",
    "from sklearn.linear_model import LogisticRegression\n",
    "from sklearn.metrics import classification_report, roc_auc_score, roc_curve\n",
    "import matplotlib.pyplot as plt"
   ]
  },
  {
   "cell_type": "markdown",
   "metadata": {},
   "source": [
    "## Carregamento dos dados"
   ]
  },
  {
   "cell_type": "code",
   "execution_count": null,
   "metadata": {},
   "outputs": [],
   "source": [
    "X, y = load_breast_cancer(return_X_y=True)\n",
    "X.shape"
   ]
  },
  {
   "cell_type": "markdown",
   "metadata": {},
   "source": [
    "## Transformação dos dados\n",
    "\n",
    "Os atributos tem escalas bastante diferentes. Vamos estandardizar os dados."
   ]
  },
  {
   "cell_type": "code",
   "execution_count": null,
   "metadata": {},
   "outputs": [],
   "source": [
    "X = (X - X.mean()) / X.std()"
   ]
  },
  {
   "cell_type": "markdown",
   "metadata": {},
   "source": [
    "## Separação dos dados\n",
    "\n",
    "São poucos exemplos e idealmente usaríamos K-Folds, mas vamos apenas fazer a separação treino/teste por simplicidade."
   ]
  },
  {
   "cell_type": "code",
   "execution_count": null,
   "metadata": {},
   "outputs": [],
   "source": [
    "X_train, X_test, y_train, y_test = train_test_split(X, y, test_size=0.3)"
   ]
  },
  {
   "cell_type": "markdown",
   "metadata": {},
   "source": [
    "## Treinamento do modelo"
   ]
  },
  {
   "cell_type": "code",
   "execution_count": null,
   "metadata": {},
   "outputs": [],
   "source": [
    "modelo = LogisticRegression()\n",
    "modelo_treinado = modelo.fit(X_train, y_train)"
   ]
  },
  {
   "cell_type": "markdown",
   "metadata": {},
   "source": [
    "## Avaliação do modelo treinado\n",
    "\n",
    "Vamos avaliar da maneira tradicional, utilizando o método `predict`. Como a regressão logística apenas dá como resultado uma probabilidade, este método internamente utiliza o limiar de 0,5 para decidir a classe."
   ]
  },
  {
   "cell_type": "code",
   "execution_count": null,
   "metadata": {},
   "outputs": [],
   "source": [
    "y_pred = modelo.predict(X_test)\n",
    "print(classification_report(y_test, y_pred))"
   ]
  },
  {
   "cell_type": "markdown",
   "metadata": {},
   "source": [
    "Vamos também construir a curva ROC e observar como a taxa de falsos positivos (FPR) e taxa de positivos verdadeiros (TPR) varia para diferentes limiares. Para tanto, usamos o método `predict_proba`, que fornece a probabilidade associada *para cada classe*. \n",
    "\n",
    "Ao usarmos o método `roc_curve`, passamos apenas as probabilidades da classe positiva (classe 1). Experimente passar também a classe 0 para ver o resultado e pense por que a curva se altera."
   ]
  },
  {
   "cell_type": "code",
   "execution_count": null,
   "metadata": {},
   "outputs": [],
   "source": [
    "# Este método retorna uma probabilidade para cada classe, para cada exemplo\n",
    "y_prob = modelo.predict_proba(X_test)\n",
    "\n",
    "# Vamos usar apenas as probabilidades associadas a classe positiva (classe 1)\n",
    "fpr, tpr, _ = roc_curve(y_test, y_prob[:,1])\n",
    "\n",
    "plt.plot(fpr, tpr, linewidth=3)\n",
    "plt.plot([0,1],[0,1], color='gray', linestyle='--') # vamos traçar também a diagonal para referência\n",
    "plt.xlabel(\"FPR\")\n",
    "plt.ylabel(\"TPR\")"
   ]
  },
  {
   "cell_type": "markdown",
   "metadata": {},
   "source": [
    "Vamos aproveitar e também calcular a AUC."
   ]
  },
  {
   "cell_type": "code",
   "execution_count": null,
   "metadata": {},
   "outputs": [],
   "source": [
    "print(roc_auc_score(y_test, y_prob[:,1]))"
   ]
  },
  {
   "cell_type": "markdown",
   "metadata": {},
   "source": [
    "Um desafio final: reconstruir o método `roc_curve` e `roc_auc_score`, sem utilizar métodos pré-prontos do sklearn (talvez usando apenas numpy)."
   ]
  }
 ],
 "metadata": {
  "kernelspec": {
   "display_name": "Python 3",
   "language": "python",
   "name": "python3"
  },
  "language_info": {
   "codemirror_mode": {
    "name": "ipython",
    "version": 3
   },
   "file_extension": ".py",
   "mimetype": "text/x-python",
   "name": "python",
   "nbconvert_exporter": "python",
   "pygments_lexer": "ipython3",
   "version": "3.12.3"
  }
 },
 "nbformat": 4,
 "nbformat_minor": 2
}
